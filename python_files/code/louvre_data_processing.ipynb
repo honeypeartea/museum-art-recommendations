{
 "cells": [
  {
   "cell_type": "code",
   "execution_count": 1,
   "id": "005f0409",
   "metadata": {},
   "outputs": [],
   "source": [
    "import pandas as pd\n",
    "import numpy as np\n",
    "import warnings\n",
    "import pandas as pd\n",
    "import json\n",
    "import numpy as np\n",
    "from tqdm import tqdm\n",
    "from urllib.request import urlopen\n",
    "warnings.filterwarnings('ignore')\n",
    "from deep_translator import LingueeTranslator, GoogleTranslator\n",
    "import re\n",
    "import multiprocessing"
   ]
  },
  {
   "cell_type": "code",
   "execution_count": 24,
   "id": "1b5defff",
   "metadata": {},
   "outputs": [],
   "source": [
    "# get attributes:\n",
    "def get_startYear(dateCreated):\n",
    "    if dateCreated:\n",
    "        return str(dateCreated[0]['startYear'])\n",
    "    else:\n",
    "        return ''\n",
    "\n",
    "def get_endYear(dateCreated):\n",
    "    if dateCreated:\n",
    "        return str(dateCreated[0]['endYear'])\n",
    "    else:\n",
    "        return ''\n",
    "\n",
    "def get_image(image):\n",
    "    if image:\n",
    "        return image[0]['urlImage']\n",
    "    else:\n",
    "        return ''\n",
    "\n",
    "def get_dimension(dimension):\n",
    "    if dimension:\n",
    "        dim = dimension[0]['type'] + ': ' + dimension[0]['value'] + dimension[0]['unit']\n",
    "        return dim\n",
    "    else:\n",
    "        return ''\n",
    "\n",
    "def get_materials(materialsAndTechniques):\n",
    "    return materialsAndTechniques\n",
    "\n",
    "def get_place(placeOfCreation):\n",
    "    return placeOfCreation\n",
    "\n",
    "def get_description(description):\n",
    "    return description\n",
    "\n",
    "def get_inscription(inscription):\n",
    "    return inscription\n",
    "\n",
    "def get_category(index):\n",
    "    if index:\n",
    "        if 'category' in index:\n",
    "            category = \" \".join([i['value'] for i in index['category']])\n",
    "            return category\n",
    "    else:\n",
    "        return ''\n",
    "\n",
    "def get_url(url):\n",
    "    return url"
   ]
  },
  {
   "cell_type": "code",
   "execution_count": 22,
   "id": "566c7624",
   "metadata": {},
   "outputs": [],
   "source": [
    "def get_data(arkId):\n",
    "    try:\n",
    "        data = np.empty([1, 11], dtype=object)\n",
    "        root = 'https://collections.louvre.fr/ark:/53355/'\n",
    "        json_url = root + arkId + '.json'\n",
    "        response = urlopen(json_url)\n",
    "        data_json = json.loads(response.read())\n",
    "\n",
    "        # get datas:\n",
    "        data[0,0] = arkId\n",
    "        data[0,1] = get_startYear(data_json['dateCreated'])\n",
    "        data[0,2] = get_endYear(data_json['dateCreated'])\n",
    "        data[0,3] = get_category(data_json['index'])\n",
    "        data[0,4] = get_place(data_json['placeOfCreation'])\n",
    "        data[0,5] = get_dimension(data_json['dimension'])\n",
    "        data[0,6] = get_materials(data_json['materialsAndTechniques'])\n",
    "        data[0,7] = get_description(data_json['description'])\n",
    "        data[0,8] = get_inscription(data_json['inscriptions'])\n",
    "        data[0,9] = get_image(data_json['image'])\n",
    "        data[0,10] = get_url(data_json['url'])\n",
    "        response.close()\n",
    "        return data\n",
    "    except:\n",
    "        print('Error')\n",
    "        pass"
   ]
  },
  {
   "cell_type": "code",
   "execution_count": 86,
   "id": "c66e22fa",
   "metadata": {},
   "outputs": [],
   "source": [
    "data = np.empty([1, 11], dtype=object)\n",
    "def get_df(file_path):\n",
    "    df = pd.read_csv(file_path)\n",
    "    features = ['ARK', 'startYear', 'endYear', 'category', 'place', 'dimension', 'materials', 'description', 'inscriptions', 'image', 'url']\n",
    "    ARK = df['ARK'].tolist()\n",
    "    data = np.empty([1, 11], dtype=object)\n",
    "    for arkId in tqdm(ARK):\n",
    "        data_ark = get_data(arkId)\n",
    "        data = np.append(data, data_ark, axis=0)\n",
    "    df1 = pd.DataFrame(data, columns = features)\n",
    "    df = pd.merge(df, df1, how='inner', on='ARK')\n",
    "    return df"
   ]
  },
  {
   "cell_type": "code",
   "execution_count": 1,
   "id": "87a38a91",
   "metadata": {},
   "outputs": [],
   "source": [
    "data = get_df('paintings.csv')"
   ]
  },
  {
   "cell_type": "code",
   "execution_count": 102,
   "id": "e7980226",
   "metadata": {},
   "outputs": [],
   "source": [
    "# data.to_csv('louvre.csv')"
   ]
  },
  {
   "cell_type": "code",
   "execution_count": null,
   "id": "a44c5a60",
   "metadata": {},
   "outputs": [],
   "source": [
    "## Translation:"
   ]
  },
  {
   "cell_type": "code",
   "execution_count": null,
   "id": "120d1a50",
   "metadata": {},
   "outputs": [],
   "source": [
    "def remove_punctuation(s):\n",
    "    punc = '''!()-[]{};:'\"\\,<>./?@#$%^&*_~='''\n",
    "    s = ''.join([i.lower() if not i in punc else ' ' for i in s])\n",
    "    s = ' '.join([i for i in s.split('\\n') if i != ' '])\n",
    "    s = ' '.join([i for i in s.split('\\r') if i != ' '])\n",
    "    s = ' '.join([i for i in s.split('\\t') if i != ' '])\n",
    "    return s"
   ]
  },
  {
   "cell_type": "code",
   "execution_count": 3,
   "id": "6f920a5c",
   "metadata": {},
   "outputs": [],
   "source": [
    "# Phrase to phrase translation:\n",
    "for i in ['title', 'category', 'place', 'materials']:\n",
    "    feat_list = data['title'].tolist()\n",
    "    english = []\n",
    "    for i in tqdm(feat_list):\n",
    "        english.append(translated(i, 'french', 'english'))\n",
    "    name = i+'_en'\n",
    "    data[name] = title_english\n",
    "\n",
    "# word by word translation of description:\n",
    "description = data['description'].tolist()\n",
    "description_words = []\n",
    "for i in description:\n",
    "    description_words += [j.strip() for j in i.split(' ')]\n",
    "description_words = list(set(description_words))\n",
    "len(description_words)\n",
    "description_word_en_1 = []\n",
    "for i in tqdm(description_words):\n",
    "    if type(i) == float:\n",
    "        description_word_en_1.append('')\n",
    "    elif i.isnumeric():\n",
    "        description_word_en_1.append(i)\n",
    "    else:\n",
    "        description_word_en_1.append(translated(i, 'french', 'english'))\n",
    "        \n",
    "description_word_dict = dict(zip(description_words, description_word_en_1))\n",
    "description = data['description'].tolist()\n",
    "description_english = []\n",
    "for i in tqdm(description):\n",
    "    if type(i) == float:\n",
    "        description_english.append('')\n",
    "    else:\n",
    "        d = ' '.join([description_word_dict[j].lower() for j in i.split(' ') if j.isalpha()])\n",
    "        description_english.append(d)\n",
    "data['description_en'] = description_english"
   ]
  },
  {
   "cell_type": "code",
   "execution_count": null,
   "id": "e9f5c456",
   "metadata": {},
   "outputs": [],
   "source": []
  }
 ],
 "metadata": {
  "kernelspec": {
   "display_name": "Python 3",
   "language": "python",
   "name": "python3"
  },
  "language_info": {
   "codemirror_mode": {
    "name": "ipython",
    "version": 3
   },
   "file_extension": ".py",
   "mimetype": "text/x-python",
   "name": "python",
   "nbconvert_exporter": "python",
   "pygments_lexer": "ipython3",
   "version": "3.8.8"
  }
 },
 "nbformat": 4,
 "nbformat_minor": 5
}
