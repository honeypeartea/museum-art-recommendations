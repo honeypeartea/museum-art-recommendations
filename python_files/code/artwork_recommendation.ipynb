{
 "cells": [
  {
   "cell_type": "markdown",
   "id": "dabb8047",
   "metadata": {},
   "source": [
    "## Artwork Recommendation"
   ]
  },
  {
   "cell_type": "code",
   "execution_count": 2,
   "id": "fa603051",
   "metadata": {},
   "outputs": [],
   "source": [
    "import csv\n",
    "import re\n",
    "from nltk.stem import PorterStemmer\n",
    "from nltk.stem.snowball import SnowballStemmer\n",
    "from nltk.tokenize import word_tokenize\n",
    "from nltk.corpus import stopwords\n",
    "import string\n",
    "from IPython.display import Image\n",
    "from IPython.core.display import HTML \n",
    "from IPython.core.display import Image, display\n",
    "import numpy as np\n",
    "from sklearn.feature_extraction.text import CountVectorizer\n",
    "from sklearn.feature_extraction.text import TfidfVectorizer\n",
    "from sklearn.metrics.pairwise import cosine_similarity\n",
    "from gensim.models import Word2Vec\n",
    "from gensim.models.phrases import Phrases, Phraser\n",
    "from matplotlib import pyplot\n",
    "from gensim.models import KeyedVectors\n",
    "from tqdm import tqdm\n",
    "import pandas as pd\n",
    "from collections import defaultdict"
   ]
  },
  {
   "cell_type": "code",
   "execution_count": 455,
   "id": "d41e23be",
   "metadata": {},
   "outputs": [],
   "source": [
    "class Artwork:\n",
    "    def __init__(self, row, header, object_id):\n",
    "        self.__dict__ = dict(zip(header, row)) \n",
    "        self.object_id = object_id\n",
    "        processed_title = process_doc(self.title)\n",
    "        processed_material = process_doc(self.material)\n",
    "        processed_artist = process_doc(self.artist)\n",
    "        processed_description = process_doc(self.description)\n",
    "        self.metadata = processed_title + processed_material + processed_artist + processed_description\n",
    "\n",
    "    def __repr__(self):\n",
    "        result = [];\n",
    "        NEW_LINE = \"\\n\"\n",
    "#         if (self.title is not None): result.append(\"title: \" + ' '.join(self.title) + NEW_LINE);\n",
    "        if (self.original_title != ''): result.append(\"title: \" + self.original_title + NEW_LINE) \n",
    "        else: result.append(\"title: \" + self.title + NEW_LINE);\n",
    "        if (self.startYear != ''): result.append(\"startYear: \" + self.startYear + NEW_LINE);\n",
    "        if (self.endYear != ''): result.append(\"endYear: \" + self.endYear + NEW_LINE);\n",
    "#         if (self.category is not None): result.append(\"category: \" + ' '.join(self.category) + NEW_LINE);\n",
    "#         if (self.dimension is not None): result.append(\"dimension: \" + ' '.join(self.dimension) + NEW_LINE);\n",
    "        if (self.material != ''): result.append(\"material: \" + self.material + NEW_LINE);\n",
    "        if (self.artist != ''): result.append(\"artist: \" + self.artist + NEW_LINE);\n",
    "        if (self.museum != ''): result.append(\"museum: \" + self.museum + NEW_LINE);\n",
    "        if (self.url != ''): result.append(\"url: \" + str(self.url) + NEW_LINE);\n",
    "#         if (self.image is not None): result.append(\"image: \" + str(self.image) + NEW_LINE);\n",
    "#         if (self.description is not None): result.append(\"description: \" + self.description + NEW_LINE);\n",
    "        return \" \".join(result)"
   ]
  },
  {
   "cell_type": "code",
   "execution_count": 456,
   "id": "f51a6bc1",
   "metadata": {},
   "outputs": [],
   "source": [
    "# process word:\n",
    "stemmer = SnowballStemmer('english')\n",
    "stop_words = set(stopwords.words('english'))\n",
    "\n",
    "def process_doc(doc):\n",
    "    punc = '''!()-[]{};:'\"\\,<>./?@#$%^&*_~='''\n",
    "    res = []\n",
    "    for word in word_tokenize(doc):\n",
    "        word = word.lower()\n",
    "        if not word in stop_words and not word in punc:\n",
    "            res.append(stemmer.stem(word))\n",
    "    return res\n",
    "\n",
    "def load_data(path):\n",
    "    data = list(csv.reader(open(path)))\n",
    "    artworks = [Artwork(a, data[0], k) for k, a in enumerate(data[1:])]\n",
    "    return artworks\n",
    "\n",
    "def recommendations(artid, data, tfidf_vectors):\n",
    "    \n",
    "    data = data[['index','title', 'image']]\n",
    "    indices = pd.Series(data.index, index = data['index']).drop_duplicates()\n",
    "         \n",
    "    idx = indices[artid]\n",
    "    cosine_similarities = cosine_similarity(tfidf_vectors,  tfidf_vectors)\n",
    "    sim_scores = list(enumerate(cosine_similarities[idx]))\n",
    "    sim_scores = sorted(sim_scores, key = lambda x: x[1], reverse = True)\n",
    "    sim_scores = sim_scores[1:11]\n",
    "    art_indices = [i[0] for i in sim_scores]\n",
    "    return art_indices"
   ]
  },
  {
   "cell_type": "markdown",
   "id": "bfd31efc",
   "metadata": {},
   "source": [
    "### I. TF-IDF + Word2Vec for artwork recommendation"
   ]
  },
  {
   "cell_type": "code",
   "execution_count": null,
   "id": "9943ab0c",
   "metadata": {},
   "outputs": [],
   "source": [
    "def get_recommendations(path):\n",
    "    artworks = load_data(path)\n",
    "    df = pd.read_csv(path).reset_index()\n",
    "    cleaned = [' '.join(a.metadata) for a in artworks]\n",
    "    \n",
    "    # Define corpus \n",
    "    corpus = []\n",
    "    for words in cleaned:\n",
    "        corpus.append(words.split())\n",
    "        \n",
    "    model = Word2Vec(window=10, sg = 1, hs=0, negative=10, alpha=0.03)\n",
    "    model.build_vocab(corpus, progress_per=200)\n",
    "    model.train(corpus, total_examples = model.corpus_count, epochs=10)\n",
    "        \n",
    "    # Get tfidf features:\n",
    "    tfidf = TfidfVectorizer(analyzer='word', ngram_range=(1, 3), stop_words='english')\n",
    "    tfidf.fit(cleaned)\n",
    "    tfidf_list = dict(zip(tfidf.get_feature_names(), list(tfidf.idf_)))\n",
    "    tfidf_feature = tfidf.get_feature_names()\n",
    "    \n",
    "    tfidf_vectors = []\n",
    "\n",
    "    for desc in corpus:\n",
    "        vec1 = np.zeros(100) \n",
    "        weight_sum =0; \n",
    "        for word in desc: \n",
    "            if word in model.wv.index_to_key and word in tfidf_feature:\n",
    "                vec = model.wv[word]\n",
    "                tf_idf = tfidf_list[word]*(desc.count(word)/len(desc))\n",
    "                vec1 += (vec * tf_idf)\n",
    "                weight_sum += tf_idf\n",
    "        if weight_sum != 0:\n",
    "            vec1 /= weight_sum\n",
    "        tfidf_vectors.append(vec1)\n",
    "    \n",
    "    recommend_dict = defaultdict(list)\n",
    "    art_ids = df['index'].tolist()\n",
    "    for artid in tqdm(art_ids):\n",
    "        recommend = recommendations(artid, df, tfidf_vectors)\n",
    "        recommend_dict[artid] = recommend\n",
    "    \n",
    "    features = ['art_id_'+str(i) for i in range(1,11)]\n",
    "    recommend = pd.DataFrame(recommend_dict).T.reset_index()\n",
    "    recommend.rename(columns=dict(zip(range(10), features)), inplace=True)\n",
    "    \n",
    "    df = pd.merge(df, recommend, how='inner', on='index').set_index('index')\n",
    "    path_1 = path.split('.csv')[0]\n",
    "    path_out = path_1 + '_with_rec.csv'\n",
    "    df.to_csv(path_out)"
   ]
  },
  {
   "cell_type": "code",
   "execution_count": null,
   "id": "11e2509a",
   "metadata": {},
   "outputs": [],
   "source": [
    "path = ['nga.csv', 'louvre.csv', 'cleveland.csv', 'rijks.csv']\n",
    "for p in path:\n",
    "    get_recommendations(p)"
   ]
  },
  {
   "cell_type": "markdown",
   "id": "a4cea052",
   "metadata": {},
   "source": [
    "### II. Random Query Search"
   ]
  },
  {
   "cell_type": "code",
   "execution_count": 457,
   "id": "ad2bfc73",
   "metadata": {},
   "outputs": [],
   "source": [
    "# term weight\n",
    "class TermWeights(NamedTuple):\n",
    "    title: float\n",
    "    material: float\n",
    "    artist: float\n",
    "    museum: float\n",
    "    description: float\n",
    "\n",
    "def compute_doc_freqs(arts):\n",
    "    freq = Counter()\n",
    "    for art in arts:\n",
    "        words = set()\n",
    "        for m in art.metadata:\n",
    "            for word in m:\n",
    "                words.add(word)\n",
    "        for word in words:\n",
    "            freq[word] += 1\n",
    "    return freq\n",
    "\n",
    "def compute_tf(art, doc_freqs, weights):\n",
    "    vec = defaultdict(float)\n",
    "    for word in art.metadata[0]:\n",
    "        vec[word] += weights.title\n",
    "    for word in art.metadata[1]:\n",
    "        vec[word] += weights.material\n",
    "    for word in art.metadata[2]:\n",
    "        vec[word] += weights.artist\n",
    "    for word in art.metadata[3]:\n",
    "        vec[word] += weights.museum\n",
    "    for word in art.metadata[4]:\n",
    "        vec[word] += weights.description\n",
    "    return dict(vec) \n",
    "\n",
    "def compute_tfidf(art, doc_freqs, weights):\n",
    "    tf_idf = compute_tf(art, doc_freqs, weights)\n",
    "    n = max(doc_freqs.values())\n",
    "    for k in tf_idf:\n",
    "        if k in doc_freqs:\n",
    "            tf_idf[k] = tf_idf[k]*np.log(n/doc_freqs[k])\n",
    "        else:\n",
    "            tf_idf[k] = 0\n",
    "    return tf_idf"
   ]
  },
  {
   "cell_type": "code",
   "execution_count": 458,
   "id": "ab1c91e2",
   "metadata": {},
   "outputs": [],
   "source": [
    "def dictdot(x: Dict[str, float], y: Dict[str, float]):\n",
    "    keys = list(x.keys()) if len(x) < len(y) else list(y.keys())\n",
    "    return sum(x.get(key, 0) * y.get(key, 0) for key in keys)\n",
    "\n",
    "def cosine_sim(x, y):\n",
    "    num = dictdot(x, y)\n",
    "    if num == 0:\n",
    "        return 0\n",
    "    return num / (norm(list(x.values())) * norm(list(y.values())))"
   ]
  },
  {
   "cell_type": "code",
   "execution_count": 470,
   "id": "c8f0305d",
   "metadata": {},
   "outputs": [],
   "source": [
    "doc_freqs = compute_doc_freqs(artworks)\n",
    "term_weights = TermWeights(title=3, artist=2, material=1, museum=3, description=1)\n",
    "\n",
    "def process_query(query, doc_freqs):\n",
    "    tf_idf = defaultdict(float)\n",
    "    query_vec = [stemmer.stem(word.lower()) for word in word_tokenize(query) if not word.lower() in stop_words]\n",
    "    for i in query_vec:\n",
    "        tf_idf[i] += 1\n",
    "    tf_idf = dict(tf_idf)\n",
    "    n = max(doc_freqs.values())\n",
    "    for k in tf_idf:\n",
    "        if k in doc_freqs:\n",
    "            tf_idf[k] = tf_idf[k]*np.log(n/doc_freqs[k])\n",
    "        else:\n",
    "            tf_idf[k] = 0\n",
    "    return tf_idf"
   ]
  },
  {
   "cell_type": "code",
   "execution_count": 469,
   "id": "c9500fb5",
   "metadata": {},
   "outputs": [],
   "source": [
    "def search(query, doc_vectors, doc_freqs):\n",
    "    results = []\n",
    "\n",
    "    query_vec = process_query(query, doc_freqs)\n",
    "    results_with_score = [(doc_id, cosine_sim(query_vec, doc_vec)) \n",
    "                            for doc_id, doc_vec in enumerate(doc_vectors)]\n",
    "    results_with_score = sorted(results_with_score, key=lambda x: -x[1])\n",
    "    results = [x[0] for x in results_with_score]\n",
    "    return results"
   ]
  },
  {
   "cell_type": "code",
   "execution_count": 473,
   "id": "3d254d71",
   "metadata": {},
   "outputs": [],
   "source": [
    "# construct artwork matrix:\n",
    "artworks = load_data('museum.csv')\n",
    "doc_freqs = compute_doc_freqs(artworks)\n",
    "term_weights = TermWeights(title=10, artist=5, material=2, museum=80, description=1)\n",
    "art_vec = [compute_tfidf(art, doc_freqs, term_weights) for art in artworks]"
   ]
  },
  {
   "cell_type": "code",
   "execution_count": 477,
   "id": "6e0fa407",
   "metadata": {},
   "outputs": [],
   "source": [
    "def search_result(artworks, query, doc_vectors, doc_freqs):\n",
    "    result = search(query, doc_vectors, doc_freqs)[:10]\n",
    "    for i in result:\n",
    "        artwork_image = artworks[i].image\n",
    "        image = Image(url= artwork_image, width=250, height=250)\n",
    "        display(image)\n",
    "        print(artworks[i])"
   ]
  },
  {
   "cell_type": "code",
   "execution_count": 480,
   "id": "606d7035",
   "metadata": {},
   "outputs": [
    {
     "data": {
      "text/html": [
       "<img src=\"https://collections.louvre.fr/media/cache/large/0000000021/0000054231/0000782986_OG.JPG\" width=\"250\" height=\"250\"/>"
      ],
      "text/plain": [
       "<IPython.core.display.Image object>"
      ]
     },
     "metadata": {},
     "output_type": "display_data"
    },
    {
     "name": "stdout",
     "output_type": "stream",
     "text": [
      "title: Un Tigre et quatre têtes de tigres\n",
      " startYear: 1600.0\n",
      " endYear: 1700.0\n",
      " material: cloth\n",
      " artist: Boel, Pieter ; Pays-Bas du Sud\n",
      " museum: louvre museum\n",
      " url: https://collections.louvre.fr/ark:/53355/cl010054231\n",
      "\n"
     ]
    },
    {
     "data": {
      "text/html": [
       "<img src=\"https://collections.louvre.fr/media/cache/large/0000000021/0000059639/0000752955_OG.JPG\" width=\"250\" height=\"250\"/>"
      ],
      "text/plain": [
       "<IPython.core.display.Image object>"
      ]
     },
     "metadata": {},
     "output_type": "display_data"
    },
    {
     "name": "stdout",
     "output_type": "stream",
     "text": [
      "title: Jeune tigre jouant avec sa mère, dit aussi Étude de deux tigres\n",
      " startYear: 1830.0\n",
      " material: oil on cloth\n",
      " artist: Delacroix, Eugène ; France\n",
      " museum: louvre museum\n",
      " url: https://collections.louvre.fr/ark:/53355/cl010059639\n",
      "\n"
     ]
    },
    {
     "data": {
      "text/html": [
       "<img src=\"https://collections.louvre.fr/media/cache/large/0000000021/0000059910/0000855889_OG.JPG\" width=\"250\" height=\"250\"/>"
      ],
      "text/plain": [
       "<IPython.core.display.Image object>"
      ]
     },
     "metadata": {},
     "output_type": "display_data"
    },
    {
     "name": "stdout",
     "output_type": "stream",
     "text": [
      "title: Tigre couché.\n",
      " startYear: 1833.0\n",
      " material: oil on cloth\n",
      " artist: Barye, Antoine Louis ; France\n",
      " museum: louvre museum\n",
      " url: https://collections.louvre.fr/ark:/53355/cl010059910\n",
      "\n"
     ]
    },
    {
     "data": {
      "text/html": [
       "<img src=\"https://collections.louvre.fr/media/cache/large/0000000021/0000455673/0000965487_OG.JPG\" width=\"250\" height=\"250\"/>"
      ],
      "text/plain": [
       "<IPython.core.display.Image object>"
      ]
     },
     "metadata": {},
     "output_type": "display_data"
    },
    {
     "name": "stdout",
     "output_type": "stream",
     "text": [
      "title: Bacchus et un tigre\n",
      " startYear: 1834.0\n",
      " material:  fresco  pigment diluted on coated to the lime\n",
      " artist: Delacroix, Eugène\n",
      " museum: louvre museum\n",
      " url: https://collections.louvre.fr/ark:/53355/cl010455673\n",
      "\n"
     ]
    },
    {
     "data": {
      "text/html": [
       "<img src=\"https://collections.louvre.fr/media/cache/original/0000000021/0000054469/0000777597_OG.JPG\" width=\"250\" height=\"250\"/>"
      ],
      "text/plain": [
       "<IPython.core.display.Image object>"
      ]
     },
     "metadata": {},
     "output_type": "display_data"
    },
    {
     "name": "stdout",
     "output_type": "stream",
     "text": [
      "title: Combat d'ours et de tigres\n",
      " startYear: 1600.0\n",
      " endYear: 1700.0\n",
      " material: cloth\n",
      " artist: Pays-Bas du Sud ; Vos, Paul de\n",
      " museum: louvre museum\n",
      " url: https://collections.louvre.fr/ark:/53355/cl010054469\n",
      "\n"
     ]
    },
    {
     "data": {
      "text/html": [
       "<img src=\"https://collections.louvre.fr/media/cache/original/0000000021/0000067226/0000055281_OG.JPG\" width=\"250\" height=\"250\"/>"
      ],
      "text/plain": [
       "<IPython.core.display.Image object>"
      ]
     },
     "metadata": {},
     "output_type": "display_data"
    },
    {
     "name": "stdout",
     "output_type": "stream",
     "text": [
      "title: Éléphants, lion et tigres morts\n",
      " startYear: 1600.0\n",
      " endYear: 1700.0\n",
      " material: oil on cloth\n",
      " artist: Anonyme ; France\n",
      " museum: louvre museum\n",
      " url: https://collections.louvre.fr/ark:/53355/cl010067226\n",
      "\n"
     ]
    },
    {
     "data": {
      "text/html": [
       "<img src=\"https://collections.louvre.fr/media/cache/original/0000000021/0000056904/0000042947_OG.JPG\" width=\"250\" height=\"250\"/>"
      ],
      "text/plain": [
       "<IPython.core.display.Image object>"
      ]
     },
     "metadata": {},
     "output_type": "display_data"
    },
    {
     "name": "stdout",
     "output_type": "stream",
     "text": [
      "title: Amours jouant avec un tigre\n",
      " startYear: 1800.0\n",
      " endYear: 1900.0\n",
      " material: cloth\n",
      " artist: Pays-Bas du Sud ; Sauvage, Piat Joseph\n",
      " museum: louvre museum\n",
      " url: https://collections.louvre.fr/ark:/53355/cl010056904\n",
      "\n"
     ]
    },
    {
     "data": {
      "text/html": [
       "<img src=\"https://openaccess-cdn.clevelandart.org/1964.371.6/1964.371.6_web.jpg\" width=\"250\" height=\"250\"/>"
      ],
      "text/plain": [
       "<IPython.core.display.Image object>"
      ]
     },
     "metadata": {},
     "output_type": "display_data"
    },
    {
     "name": "stdout",
     "output_type": "stream",
     "text": [
      "title: Twelve Views of Tiger Hill, Suzhou: The Sword Spring, Tiger Hill\n",
      " startYear: 1491.0\n",
      " endYear: 1509.0\n",
      " artist: Shen Zhou\n",
      " museum: cleveland museum of art\n",
      " url: https://clevelandart.org/art/1964.371.6\n",
      "\n"
     ]
    },
    {
     "data": {
      "text/html": [
       "<img src=\"https://openaccess-cdn.clevelandart.org/1964.371.11/1964.371.11_web.jpg\" width=\"250\" height=\"250\"/>"
      ],
      "text/plain": [
       "<IPython.core.display.Image object>"
      ]
     },
     "metadata": {},
     "output_type": "display_data"
    },
    {
     "name": "stdout",
     "output_type": "stream",
     "text": [
      "title: Twelve Views of Tiger Hill, Suzhou: Bamboo Pavilion, Tiger Hill\n",
      " startYear: 1491.0\n",
      " endYear: 1509.0\n",
      " artist: Shen Zhou\n",
      " museum: cleveland museum of art\n",
      " url: https://clevelandart.org/art/1964.371.11\n",
      "\n"
     ]
    },
    {
     "data": {
      "text/html": [
       "<img src=\"https://openaccess-cdn.clevelandart.org/1964.371.1/1964.371.1_web.jpg\" width=\"250\" height=\"250\"/>"
      ],
      "text/plain": [
       "<IPython.core.display.Image object>"
      ]
     },
     "metadata": {},
     "output_type": "display_data"
    },
    {
     "name": "stdout",
     "output_type": "stream",
     "text": [
      "title: Twelve Views of Tiger Hill, Suzhou: Distant View of Tiger Hill from the Canal Mooring\n",
      " startYear: 1491.0\n",
      " endYear: 1509.0\n",
      " artist: Shen Zhou\n",
      " museum: cleveland museum of art\n",
      " url: https://clevelandart.org/art/1964.371.1\n",
      "\n"
     ]
    }
   ],
   "source": [
    "query = 'tiger'\n",
    "search_result(artworks, query, art_vec, doc_freqs)"
   ]
  },
  {
   "cell_type": "markdown",
   "id": "66bf5bd7",
   "metadata": {},
   "source": [
    "## Search by color"
   ]
  },
  {
   "cell_type": "code",
   "execution_count": null,
   "id": "f573fa35",
   "metadata": {},
   "outputs": [],
   "source": [
    "from sklearn.cluster import KMeans\n",
    "import matplotlib.pyplot as plt\n",
    "import numpy as np\n",
    "import cv2\n",
    "from collections import Counter\n",
    "from skimage.color import rgb2lab, deltaE_cie76\n",
    "from urllib.request import urlopen"
   ]
  },
  {
   "cell_type": "code",
   "execution_count": null,
   "id": "ec53e2fa",
   "metadata": {},
   "outputs": [],
   "source": [
    "def url_to_image(url):\n",
    "    resp = urlopen(url)\n",
    "    image = np.asarray(bytearray(resp.read()), dtype=\"uint8\")\n",
    "    image = cv2.imdecode(image, cv2.IMREAD_COLOR)\n",
    "    return image\n",
    "\n",
    "def get_colors(image, number_of_colors, show_chart):\n",
    "    \n",
    "    modified_image = cv2.resize(image, (600, 400), interpolation = cv2.INTER_AREA)\n",
    "    modified_image = modified_image.reshape(modified_image.shape[0]*modified_image.shape[1], 3)\n",
    "    \n",
    "    clf = KMeans(n_clusters = number_of_colors)\n",
    "    labels = clf.fit_predict(modified_image)\n",
    "    \n",
    "    counts = Counter(labels)\n",
    "    counts = dict(sorted(counts.items()))\n",
    "    \n",
    "    center_colors = clf.cluster_centers_\n",
    "    ordered_colors = [center_colors[i] for i in counts.keys()]\n",
    "    rgb_colors = [ordered_colors[i] for i in counts.keys()]\n",
    "    return rgb_colors\n",
    "\n",
    "COLORS = {\n",
    "    'GREEN': [0, 128, 0],\n",
    "    'BLUE': [0, 0, 128],\n",
    "    'YELLOW': [255, 255, 0],\n",
    "    'RED': [255, 0, 0]\n",
    "}\n",
    "\n",
    "def match_image_by_color(image, color, threshold = 60, number_of_colors = 10): \n",
    "    \n",
    "    image_colors = get_colors(image, number_of_colors, False)\n",
    "    selected_color = rgb2lab(np.uint8(np.asarray([[color]])))\n",
    "\n",
    "    select_image = False\n",
    "    for i in range(number_of_colors):\n",
    "        curr_color = rgb2lab(np.uint8(np.asarray([[image_colors[i]]])))\n",
    "        diff = deltaE_cie76(selected_color, curr_color)\n",
    "        if (diff < threshold):\n",
    "            select_image = True\n",
    "    return select_image\n",
    "\n",
    "image_colors = []\n",
    "def label_color(urls):\n",
    "    for url in tqdm(urls[301:]):\n",
    "        label_colors = ''\n",
    "        img = url_to_image(url)\n",
    "        for color in COLORS:\n",
    "            matched = match_image_by_color(img, COLORS[color], threshold = 60, number_of_colors = 6)\n",
    "            if matched:\n",
    "                label_colors = label_colors + ',' + color\n",
    "        image_colors.append(label_colors) "
   ]
  },
  {
   "cell_type": "code",
   "execution_count": null,
   "id": "ec27fa9b",
   "metadata": {},
   "outputs": [],
   "source": [
    "df = pd.read_csv('nga.csv')\n",
    "urls = df['image'].tolist()\n",
    "label_color(urls)\n",
    "df['color'] = image_colors"
   ]
  },
  {
   "cell_type": "code",
   "execution_count": 12,
   "id": "5ca64570",
   "metadata": {},
   "outputs": [],
   "source": [
    "def search_by_color(color, df):\n",
    "    for i in range(df.shape[0]):\n",
    "        if color.upper() in df['color'][i]:\n",
    "            artwork_image = df['image'][i]\n",
    "            image = Image(url= artwork_image, width=250, height=250)\n",
    "            display(image)  \n"
   ]
  },
  {
   "cell_type": "code",
   "execution_count": 13,
   "id": "e270aa4f",
   "metadata": {},
   "outputs": [
    {
     "data": {
      "text/html": [
       "<img src=\"https://api.nga.gov/iiif/17707775-8562-416f-a470-3761a4ba0414/full/!200,200/0/default.jpg\" width=\"250\" height=\"250\"/>"
      ],
      "text/plain": [
       "<IPython.core.display.Image object>"
      ]
     },
     "metadata": {},
     "output_type": "display_data"
    },
    {
     "data": {
      "text/html": [
       "<img src=\"https://api.nga.gov/iiif/f090d0ad-5d3d-4faf-a63c-8fddd765fb23/full/!200,200/0/default.jpg\" width=\"250\" height=\"250\"/>"
      ],
      "text/plain": [
       "<IPython.core.display.Image object>"
      ]
     },
     "metadata": {},
     "output_type": "display_data"
    },
    {
     "data": {
      "text/html": [
       "<img src=\"https://api.nga.gov/iiif/b1dae947-9930-4717-aaa4-256765f18a30/full/!200,200/0/default.jpg\" width=\"250\" height=\"250\"/>"
      ],
      "text/plain": [
       "<IPython.core.display.Image object>"
      ]
     },
     "metadata": {},
     "output_type": "display_data"
    },
    {
     "data": {
      "text/html": [
       "<img src=\"https://api.nga.gov/iiif/4efb17f3-cbf0-47dd-9610-f780294305b4/full/!200,200/0/default.jpg\" width=\"250\" height=\"250\"/>"
      ],
      "text/plain": [
       "<IPython.core.display.Image object>"
      ]
     },
     "metadata": {},
     "output_type": "display_data"
    },
    {
     "data": {
      "text/html": [
       "<img src=\"https://api.nga.gov/iiif/f8097a66-a3cb-4373-8bf6-e8b074aaf38c/full/!200,200/0/default.jpg\" width=\"250\" height=\"250\"/>"
      ],
      "text/plain": [
       "<IPython.core.display.Image object>"
      ]
     },
     "metadata": {},
     "output_type": "display_data"
    },
    {
     "data": {
      "text/html": [
       "<img src=\"https://api.nga.gov/iiif/7ef08b06-e4ff-49e5-8c13-f79dd0b1a872/full/!200,200/0/default.jpg\" width=\"250\" height=\"250\"/>"
      ],
      "text/plain": [
       "<IPython.core.display.Image object>"
      ]
     },
     "metadata": {},
     "output_type": "display_data"
    },
    {
     "data": {
      "text/html": [
       "<img src=\"https://api.nga.gov/iiif/0f0cf343-d7ed-4c1b-a83b-4a677db0b15b/full/!200,200/0/default.jpg\" width=\"250\" height=\"250\"/>"
      ],
      "text/plain": [
       "<IPython.core.display.Image object>"
      ]
     },
     "metadata": {},
     "output_type": "display_data"
    },
    {
     "data": {
      "text/html": [
       "<img src=\"https://api.nga.gov/iiif/dcde3408-0a60-4a75-9ff7-d4b86aa888f1/full/!200,200/0/default.jpg\" width=\"250\" height=\"250\"/>"
      ],
      "text/plain": [
       "<IPython.core.display.Image object>"
      ]
     },
     "metadata": {},
     "output_type": "display_data"
    },
    {
     "data": {
      "text/html": [
       "<img src=\"https://api.nga.gov/iiif/4e4b72ae-9903-4515-b017-e76053cc12d5/full/!200,200/0/default.jpg\" width=\"250\" height=\"250\"/>"
      ],
      "text/plain": [
       "<IPython.core.display.Image object>"
      ]
     },
     "metadata": {},
     "output_type": "display_data"
    },
    {
     "data": {
      "text/html": [
       "<img src=\"https://api.nga.gov/iiif/2bab2cfc-3cb6-45e5-a030-1779aedb5981/full/!200,200/0/default.jpg\" width=\"250\" height=\"250\"/>"
      ],
      "text/plain": [
       "<IPython.core.display.Image object>"
      ]
     },
     "metadata": {},
     "output_type": "display_data"
    },
    {
     "data": {
      "text/html": [
       "<img src=\"https://api.nga.gov/iiif/4c1b7173-70dd-4786-b85c-d56d662d2db4/full/!200,200/0/default.jpg\" width=\"250\" height=\"250\"/>"
      ],
      "text/plain": [
       "<IPython.core.display.Image object>"
      ]
     },
     "metadata": {},
     "output_type": "display_data"
    }
   ],
   "source": [
    "search_by_color('green', df)"
   ]
  },
  {
   "cell_type": "code",
   "execution_count": null,
   "id": "057d58f7",
   "metadata": {},
   "outputs": [],
   "source": []
  }
 ],
 "metadata": {
  "kernelspec": {
   "display_name": "Python 3",
   "language": "python",
   "name": "python3"
  },
  "language_info": {
   "codemirror_mode": {
    "name": "ipython",
    "version": 3
   },
   "file_extension": ".py",
   "mimetype": "text/x-python",
   "name": "python",
   "nbconvert_exporter": "python",
   "pygments_lexer": "ipython3",
   "version": "3.8.8"
  }
 },
 "nbformat": 4,
 "nbformat_minor": 5
}
